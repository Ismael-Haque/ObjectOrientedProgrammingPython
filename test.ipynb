{
 "cells": [
  {
   "cell_type": "markdown",
   "metadata": {},
   "source": [
    "# Class\n",
    "Class is a blueprint for creating objects. Everything is an object in python."
   ]
  },
  {
   "cell_type": "markdown",
   "metadata": {},
   "source": []
  },
  {
   "cell_type": "code",
   "execution_count": 23,
   "metadata": {},
   "outputs": [],
   "source": [
    "# Varibable is an object. More precisely a variable is a reference to the object that is assigned to it.\n",
    "\n",
    "city = \"Dhaka\"\n",
    "\n",
    "# here \"dhaka\" which is a string object and it's reference is stored in city variable. \n",
    "# here we've used \"\"| double qoutes for creating a string object, which is string literal but we could have also instanciated city variable in general manner as following:\n",
    "\n",
    "cityG = str(\"Dhaka\")"
   ]
  },
  {
   "cell_type": "code",
   "execution_count": 24,
   "metadata": {},
   "outputs": [
    {
     "name": "stdout",
     "output_type": "stream",
     "text": [
      "<class 'str'>\n",
      "<class 'str'>\n"
     ]
    }
   ],
   "source": [
    "print(type(city))\n",
    "print(type(cityG))\n",
    "\n",
    "# We use string literal for instantiate a string object or variable(in case of python)"
   ]
  },
  {
   "cell_type": "code",
   "execution_count": 25,
   "metadata": {},
   "outputs": [
    {
     "data": {
      "text/plain": [
       "2338286567280"
      ]
     },
     "execution_count": 25,
     "metadata": {},
     "output_type": "execute_result"
    }
   ],
   "source": [
    "# using id() we can see the reference or identity nuber of an object\n",
    "id(city)"
   ]
  },
  {
   "cell_type": "markdown",
   "metadata": {},
   "source": [
    "## Things that class contains\n",
    "Class contains 2 things:\n",
    "- Data or property\n",
    "- Methods (it's like function)"
   ]
  },
  {
   "cell_type": "code",
   "execution_count": 26,
   "metadata": {},
   "outputs": [],
   "source": [
    "# Name of a class should be in \"PascalCase\"\n",
    "# Name of data and methods should be in \"snake_case\"\n",
    "\n",
    "# structure of a class\n",
    "class Car():\n",
    "    color = \"red\" # data / property\n",
    "    model = \"racing\" # data /property\n",
    "\n",
    "    # method / function inside a class\n",
    "    # methods are accessed with .(dot) after the object name\n",
    "\n",
    "    def open_door():\n",
    "        print(\"grab the handle and pull it\")\n",
    "\n",
    "# this is the structure of a typical class"
   ]
  },
  {
   "attachments": {
    "class_diagram.png": {
     "image/png": "[encoded data removed]"
    }
   },
   "cell_type": "markdown",
   "metadata": {},
   "source": [
    "### This is the diagram of a class\n",
    "where (-) in the property means \"pirvate\"\n",
    "and (+) means \"public\"\n",
    "![class_diagram.png](attachment:class_diagram.png)"
   ]
  },
  {
   "cell_type": "code",
   "execution_count": 27,
   "metadata": {},
   "outputs": [],
   "source": [
    "# Object is an instance of a class\n",
    "# a demo class\n",
    "class Car:\n",
    "    pass\n",
    "\n",
    "# create an object\n",
    "audi = Car()\n"
   ]
  },
  {
   "cell_type": "code",
   "execution_count": 28,
   "metadata": {},
   "outputs": [],
   "source": [
    "class Atm:\n",
    "    # function vs methods\n",
    "    # method is a function that is declared inside a class\n",
    "\n",
    "    def __init__(self):\n",
    "        self.pin = \"\"\n",
    "        self.balance = 0\n",
    "\n",
    "        self.menu()\n",
    "\n",
    "    def menu(self):\n",
    "        user_input = input(\"\"\"\n",
    "            Hello, how woluld you like to proceed ?\n",
    "                1. Enter 1 to create pin\n",
    "                2. Enter 2 to deposit\n",
    "                3. Enter 3 to withdraw\n",
    "                4. Enter 4 to check balance\n",
    "                5. Enter 5 to quit.\n",
    "                           \n",
    "    \"\"\")\n",
    "        \n",
    "        if user_input == \"1\":\n",
    "            self.create_pin()\n",
    "            self.menu()\n",
    "        elif user_input == \"2\":\n",
    "            self.deposit()\n",
    "            self.menu()\n",
    "        elif user_input == \"3\":\n",
    "            self.withdraw()\n",
    "            self.menu()\n",
    "        elif user_input == \"4\":\n",
    "            print(\"Your balance is \", self.balance)\n",
    "            self.menu()\n",
    "        elif user_input == '5':\n",
    "            print(\"Bye!\")\n",
    "\n",
    "    def create_pin(self):\n",
    "        self.pin = input(\"Create your pin: \")\n",
    "        print(\"Pin created successfully!\")\n",
    "    \n",
    "    def deposit(self):\n",
    "        temp_pin = input(\"Enter your pin: \")\n",
    "        if temp_pin == self.pin:\n",
    "            amount = int(input(\"Input your deposit amount: \"))\n",
    "            if type(amount) == int:\n",
    "                self.balance = self.balance + amount\n",
    "                print(\"Deposit Successful! \\n your balance is \", self.balance)\n",
    "            else:\n",
    "                print(\"Balance should only be integer, please try again!\")\n",
    "        else:\n",
    "            print(\"wrong pin!\")\n",
    "\n",
    "    def withdraw(self):\n",
    "        temp_pin = input(\"Enter your pin: \")\n",
    "\n",
    "        if temp_pin == self.pin:\n",
    "            withdrawl_amount = int(input(\"Enter withdrawl amount: \"))\n",
    "            if withdrawl_amount <= self.balance:\n",
    "                self.balance = self.balance - withdrawl_amount\n",
    "                print(\"withdraw successfull\")\n",
    "            else:\n",
    "                print(\"not enough money!\")\n",
    "\n",
    "        else:\n",
    "            print(\"Wrong pin! try again!\")\n",
    "    \n"
   ]
  },
  {
   "cell_type": "code",
   "execution_count": 31,
   "metadata": {},
   "outputs": [
    {
     "name": "stdout",
     "output_type": "stream",
     "text": [
      "Pin created successfully!\n",
      "Deposit Successful! \n",
      " your balance is  1234\n",
      "Your balance is  1234\n",
      "Your balance is  1234\n",
      "withdraw successfull\n",
      "Your balance is  734\n",
      "Your balance is  734\n",
      "Your balance is  734\n",
      "Your balance is  734\n",
      "Your balance is  734\n",
      "Your balance is  734\n",
      "Your balance is  734\n",
      "Your balance is  734\n",
      "Your balance is  734\n",
      "Your balance is  734\n",
      "Your balance is  734\n",
      "Bye!\n"
     ]
    }
   ],
   "source": [
    "x = Atm()"
   ]
  },
  {
   "cell_type": "code",
   "execution_count": 1,
   "metadata": {},
   "outputs": [],
   "source": [
    "class Car:\n",
    "    # here \"__init__\" is the constructor of class Car\n",
    "    # constructor is a method that initializes object at the time of object creation\n",
    "    # that means this set of code executes at the moment of object creation \n",
    "    # \"__init__\", \"__add__\" these are know as dunder or magic method and are built in methods\n",
    "    def __init__(self):\n",
    "        self.x = 1\n",
    "        self.y = 1\n",
    "        self.z = 1\n",
    "\n",
    "        self.method()\n",
    "\n",
    "    def a_method(self):\n",
    "        # here \"self refers to the current object\"\n",
    "        pass"
   ]
  },
  {
   "cell_type": "markdown",
   "metadata": {},
   "source": [
    " ### 💪 self  \n",
    "❗an explanation of self inside class"
   ]
  },
  {
   "cell_type": "code",
   "execution_count": 5,
   "metadata": {},
   "outputs": [],
   "source": [
    "class Car:\n",
    "    def __init__(self, name, color, price):\n",
    "        self.name = name\n",
    "        self.color = color\n",
    "        self.price = price\n",
    "        print(id(self))\n",
    "\n",
    "        print(\"I run when a object is created!\")\n",
    "    \n",
    "    def explain_car(self):\n",
    "        return \"name of the car is \" + self.name + \". The car is \" + self.color + \" the price is \" + str(self.price)\n",
    "    \n",
    "    def start_car(self):\n",
    "        return \"Vroom Vroom! Car started\"\n",
    "    \n",
    "\n",
    "#  if we don't use self even methods inside the class won't be able to access other properties or methods"
   ]
  },
  {
   "cell_type": "code",
   "execution_count": 6,
   "metadata": {},
   "outputs": [
    {
     "name": "stdout",
     "output_type": "stream",
     "text": [
      "3083916229904\n",
      "I run when a object is created!\n"
     ]
    }
   ],
   "source": [
    "audi = Car(\"Audi\", \"Red\", 20000)"
   ]
  },
  {
   "cell_type": "code",
   "execution_count": 7,
   "metadata": {},
   "outputs": [
    {
     "data": {
      "text/plain": [
       "3083916229904"
      ]
     },
     "execution_count": 7,
     "metadata": {},
     "output_type": "execute_result"
    }
   ],
   "source": [
    "id(audi)"
   ]
  },
  {
   "cell_type": "markdown",
   "metadata": {},
   "source": [
    "💥 in previous 2 example id of self and id of object audi refers to the same id.\n",
    "that means both are same thing ie. current object. "
   ]
  },
  {
   "cell_type": "code",
   "execution_count": 12,
   "metadata": {},
   "outputs": [],
   "source": [
    "class Car:\n",
    "    def __init__(self, name, color, price):\n",
    "        self.name = name\n",
    "        self.color = color\n",
    "        self.price = price\n",
    "        print(id(self))\n",
    "\n",
    "        print(\"I run when a object is created!\")\n",
    "    \n",
    "    def explain_car(self):\n",
    "        return \"name of the car is \" + self.name + \". The car is \" + self.color + \" the price is \" + str(self.price)\n",
    "    \n",
    "    def start_car():\n",
    "        return \"Vroom Vroom! Car started\""
   ]
  },
  {
   "cell_type": "markdown",
   "metadata": {},
   "source": [
    "💢 in the previous car class definition i've removed self from `strt_car()` method. now let's see what happens 😁"
   ]
  },
  {
   "cell_type": "code",
   "execution_count": 13,
   "metadata": {},
   "outputs": [
    {
     "name": "stdout",
     "output_type": "stream",
     "text": [
      "3083916223184\n",
      "I run when a object is created!\n"
     ]
    }
   ],
   "source": [
    "dingDong = Car(\"ding dong\", \"blue\", -20000)"
   ]
  },
  {
   "cell_type": "code",
   "execution_count": 14,
   "metadata": {},
   "outputs": [
    {
     "data": {
      "text/plain": [
       "'name of the car is ding dong. The car is blue the price is -20000'"
      ]
     },
     "execution_count": 14,
     "metadata": {},
     "output_type": "execute_result"
    }
   ],
   "source": [
    "dingDong.explain_car()"
   ]
  },
  {
   "cell_type": "markdown",
   "metadata": {},
   "source": [
    "💤 so far everything seems fine but now let's call the `start_car()` method and let's see what happens!"
   ]
  },
  {
   "cell_type": "code",
   "execution_count": 16,
   "metadata": {},
   "outputs": [
    {
     "ename": "TypeError",
     "evalue": "Car.start_car() takes 0 positional arguments but 1 was given",
     "output_type": "error",
     "traceback": [
      "\u001b[1;31m---------------------------------------------------------------------------\u001b[0m",
      "\u001b[1;31mTypeError\u001b[0m                                 Traceback (most recent call last)",
      "Cell \u001b[1;32mIn[16], line 1\u001b[0m\n\u001b[1;32m----> 1\u001b[0m dingDong\u001b[39m.\u001b[39;49mstart_car()\n",
      "\u001b[1;31mTypeError\u001b[0m: Car.start_car() takes 0 positional arguments but 1 was given"
     ]
    }
   ],
   "source": [
    "dingDong.start_car()"
   ]
  },
  {
   "cell_type": "markdown",
   "metadata": {},
   "source": [
    "💥 ❗❗❗ `Car.start_car() takes 0 positional arguments but 1 was given` this means that car doesn't take any positional argument but 1 was given but <b>We haven't given any arguments</b> so what is this all about?\n",
    "\n",
    "- we haven't given any argument explicitly, when we created the object <b>dingDong</b> it was still working fine but when we invoked the method dot-suffixing `Car.start_car()` then python passed the object to the method `start_car()` as there there was no variable to recieve the object <b>dingDong</b> python threw that warning <em style=\"color:red;\">TypeError : Car.start_car() takes 0 positional arguments but 1 was given</em>"
   ]
  },
  {
   "cell_type": "markdown",
   "metadata": {},
   "source": [
    "---"
   ]
  },
  {
   "cell_type": "markdown",
   "metadata": {},
   "source": [
    "<h2 style=\"color:red\">Encapsulation</h2>\n",
    "\n",
    "\n",
    "- Encapsulation refers to the bundling of attributes and methods inside a single class. So that we can't access or modify the values/ data/ property / methods of a perticular class outside the class. (not even through the object)\n",
    "\n",
    "<b>How to encapsulate methods or property/data ?</b><br/>\n",
    "😇 <b style=\"color:red\">2</b> simple ways?\n",
    "- prefix attributes/data/property/variable with __ (double underscore)\n",
    "- use <b style=\"color:red\">get</b>(to access variable)/<b style=\"color:red\">set</b>(change variable)\n",
    "\n",
    "\n",
    "\n",
    "*** by the by, inside `__init__` the attributes we declare are called <b style=\"color:green\">instance variable </b>, because every instance of the class will have different value for the variable"
   ]
  },
  {
   "cell_type": "code",
   "execution_count": 36,
   "metadata": {},
   "outputs": [],
   "source": [
    "class Car:\n",
    "    def __init__(self, name, color, price):\n",
    "        self.name = name\n",
    "        self.color = color\n",
    "        self.__price = price # first step of encapsulation (prefix __)\n",
    "        print(id(self))\n",
    "\n",
    "        print(\"I run when a object is created!\")\n",
    "\n",
    "    def get_price(self):\n",
    "        return self.__price\n",
    "    \n",
    "    def set_price(self, new_price):\n",
    "        if type(new_price) == int:\n",
    "            self.__price = new_price\n",
    "            return self.__price\n",
    "        else:\n",
    "            print(\"Failed! Value of price should only be integer\")      \n",
    "    \n",
    "    def explain_car(self):\n",
    "        return \"name of the car is \" + self.name + \". The car is \" + self.color + \" the price is \" + str(self.price)\n",
    "    \n",
    "    def __start_car(self): # first step of encapsulation\n",
    "        # in python there no access modifier like private\n",
    "        # even if we use __prefix it can be changed\n",
    "        return \"Vroom Vroom! Car started\""
   ]
  },
  {
   "cell_type": "code",
   "execution_count": 37,
   "metadata": {},
   "outputs": [
    {
     "name": "stdout",
     "output_type": "stream",
     "text": [
      "3083922933200\n",
      "I run when a object is created!\n"
     ]
    }
   ],
   "source": [
    "ford = Car(\"Ford\", \"blue\", 50000)"
   ]
  },
  {
   "cell_type": "code",
   "execution_count": 38,
   "metadata": {},
   "outputs": [
    {
     "ename": "AttributeError",
     "evalue": "'Car' object has no attribute '__price'",
     "output_type": "error",
     "traceback": [
      "\u001b[1;31m---------------------------------------------------------------------------\u001b[0m",
      "\u001b[1;31mAttributeError\u001b[0m                            Traceback (most recent call last)",
      "Cell \u001b[1;32mIn[38], line 2\u001b[0m\n\u001b[0;32m      1\u001b[0m \u001b[39m# can not access price\u001b[39;00m\n\u001b[1;32m----> 2\u001b[0m ford\u001b[39m.\u001b[39;49m__price\n",
      "\u001b[1;31mAttributeError\u001b[0m: 'Car' object has no attribute '__price'"
     ]
    }
   ],
   "source": [
    "# can not access price\n",
    "ford.__price"
   ]
  },
  {
   "cell_type": "code",
   "execution_count": 39,
   "metadata": {},
   "outputs": [
    {
     "data": {
      "text/plain": [
       "50000"
      ]
     },
     "execution_count": 39,
     "metadata": {},
     "output_type": "execute_result"
    }
   ],
   "source": [
    "# using get_price() we can access price\n",
    "ford.get_price()"
   ]
  },
  {
   "cell_type": "markdown",
   "metadata": {},
   "source": [
    "👽 python does the follwing with __prefixed psudo private attribute:  \n",
    "<b style=\"color:green\">__price</b> to <b style=\"color:red\">_Car__price</b>\n",
    "\n",
    "this is the reason they say there is no ~~<em style=\"color:red\">true private</em>~~ access modifier in python"
   ]
  },
  {
   "cell_type": "code",
   "execution_count": 40,
   "metadata": {},
   "outputs": [
    {
     "data": {
      "text/plain": [
       "50000"
      ]
     },
     "execution_count": 40,
     "metadata": {},
     "output_type": "execute_result"
    }
   ],
   "source": [
    "# We can also access price using \n",
    "ford._Car__price"
   ]
  },
  {
   "cell_type": "code",
   "execution_count": 41,
   "metadata": {},
   "outputs": [
    {
     "data": {
      "text/plain": [
       "70000"
      ]
     },
     "execution_count": 41,
     "metadata": {},
     "output_type": "execute_result"
    }
   ],
   "source": [
    "ford.set_price(70000)"
   ]
  },
  {
   "cell_type": "code",
   "execution_count": 42,
   "metadata": {},
   "outputs": [
    {
     "data": {
      "text/plain": [
       "70000"
      ]
     },
     "execution_count": 42,
     "metadata": {},
     "output_type": "execute_result"
    }
   ],
   "source": [
    "ford.get_price()"
   ]
  },
  {
   "cell_type": "code",
   "execution_count": 43,
   "metadata": {},
   "outputs": [
    {
     "data": {
      "text/plain": [
       "70000"
      ]
     },
     "execution_count": 43,
     "metadata": {},
     "output_type": "execute_result"
    }
   ],
   "source": [
    "ford._Car__price"
   ]
  },
  {
   "cell_type": "markdown",
   "metadata": {},
   "source": [
    "😈 even though we've set price(attribute) private and used set method we can still change it with\n",
    "<b style=\"color:red\">_Car__price</b> | <b style=\"color:red\">_ClassName__privateAttribute</b>"
   ]
  },
  {
   "cell_type": "code",
   "execution_count": 44,
   "metadata": {},
   "outputs": [
    {
     "name": "stdout",
     "output_type": "stream",
     "text": [
      "Failed! Value of price should only be integer\n"
     ]
    }
   ],
   "source": [
    "ford.set_price(\"dlkjflks23\")"
   ]
  },
  {
   "cell_type": "code",
   "execution_count": 45,
   "metadata": {},
   "outputs": [
    {
     "data": {
      "text/plain": [
       "70000"
      ]
     },
     "execution_count": 45,
     "metadata": {},
     "output_type": "execute_result"
    }
   ],
   "source": [
    "ford.get_price()"
   ]
  },
  {
   "cell_type": "markdown",
   "metadata": {},
   "source": [
    "❗ <b style=\"color:red\">even after encapsulation the code is not infallible</b>"
   ]
  },
  {
   "cell_type": "code",
   "execution_count": 50,
   "metadata": {},
   "outputs": [],
   "source": [
    "# even after encapsulation the code is not infallible\n",
    "# changed the main variable and messed the code up\n",
    "ford._Car__price = \"skdjfeow2\""
   ]
  },
  {
   "cell_type": "code",
   "execution_count": 51,
   "metadata": {},
   "outputs": [
    {
     "data": {
      "text/plain": [
       "'skdjfeow2'"
      ]
     },
     "execution_count": 51,
     "metadata": {},
     "output_type": "execute_result"
    }
   ],
   "source": [
    "ford.get_price()"
   ]
  },
  {
   "cell_type": "markdown",
   "metadata": {},
   "source": [
    "---"
   ]
  },
  {
   "cell_type": "markdown",
   "metadata": {},
   "source": [
    "### <b style=\"color:green\">Mutability</b> of mutable objects like list, dictionary\n",
    "- mutability depends on the memory location(reference id) of an object"
   ]
  },
  {
   "cell_type": "code",
   "execution_count": 1,
   "metadata": {},
   "outputs": [
    {
     "data": {
      "text/plain": [
       "['apple', 'banana', 'cherry']"
      ]
     },
     "execution_count": 1,
     "metadata": {},
     "output_type": "execute_result"
    }
   ],
   "source": [
    "fruits = [\"apple\", \"banana\", \"cherry\"]\n",
    "fruits"
   ]
  },
  {
   "cell_type": "code",
   "execution_count": 2,
   "metadata": {},
   "outputs": [
    {
     "data": {
      "text/plain": [
       "2176026633344"
      ]
     },
     "execution_count": 2,
     "metadata": {},
     "output_type": "execute_result"
    }
   ],
   "source": [
    "id(fruits)"
   ]
  },
  {
   "cell_type": "code",
   "execution_count": 3,
   "metadata": {},
   "outputs": [],
   "source": [
    "fruits.append(\"berry\")"
   ]
  },
  {
   "cell_type": "code",
   "execution_count": 4,
   "metadata": {},
   "outputs": [
    {
     "data": {
      "text/plain": [
       "2176026633344"
      ]
     },
     "execution_count": 4,
     "metadata": {},
     "output_type": "execute_result"
    }
   ],
   "source": [
    "id(fruits)"
   ]
  },
  {
   "cell_type": "code",
   "execution_count": 5,
   "metadata": {},
   "outputs": [
    {
     "data": {
      "text/plain": [
       "'berry'"
      ]
     },
     "execution_count": 5,
     "metadata": {},
     "output_type": "execute_result"
    }
   ],
   "source": [
    "fruits.pop()"
   ]
  },
  {
   "cell_type": "code",
   "execution_count": 6,
   "metadata": {},
   "outputs": [
    {
     "data": {
      "text/plain": [
       "2176026633344"
      ]
     },
     "execution_count": 6,
     "metadata": {},
     "output_type": "execute_result"
    }
   ],
   "source": [
    "id(fruits)"
   ]
  },
  {
   "cell_type": "code",
   "execution_count": 9,
   "metadata": {},
   "outputs": [
    {
     "data": {
      "text/plain": [
       "1"
      ]
     },
     "execution_count": 9,
     "metadata": {},
     "output_type": "execute_result"
    }
   ],
   "source": [
    "fruitsTuple = (\"apple\", \"banana\", \"cherry\")\n",
    "fruitsTuple.count(\"apple\")"
   ]
  },
  {
   "cell_type": "code",
   "execution_count": 12,
   "metadata": {},
   "outputs": [
    {
     "name": "stdout",
     "output_type": "stream",
     "text": [
      "2176026633344\n",
      "2176026633344\n"
     ]
    }
   ],
   "source": [
    "# cloning\n",
    "print(id(fruits))\n",
    "anotherFruits = fruits\n",
    "print(id(anotherFruits))"
   ]
  },
  {
   "cell_type": "markdown",
   "metadata": {},
   "source": [
    "💥 even though in the previous example i've assigned `fruits` to `anotherFruits` variable the location in the memory remains the same so the `id` is the same  \n",
    "thats why it is recommended to clone a mutable object like `list` if we don't want to change the original one."
   ]
  },
  {
   "cell_type": "code",
   "execution_count": 14,
   "metadata": {},
   "outputs": [
    {
     "name": "stdout",
     "output_type": "stream",
     "text": [
      "2176026633344\n",
      "2176032132672\n"
     ]
    }
   ],
   "source": [
    "# cloning\n",
    "print(id(fruits))\n",
    "clonedFruits = fruits[:]\n",
    "print(id(clonedFruits))"
   ]
  },
  {
   "cell_type": "markdown",
   "metadata": {},
   "source": [
    "### <b style=\"color:red\">Static</b> Attribute in a class"
   ]
  },
  {
   "cell_type": "code",
   "execution_count": 20,
   "metadata": {},
   "outputs": [],
   "source": [
    "# this is a basket and i wish to keep track of the order in which each object was put in the basket\n",
    "\n",
    "class Basket:\n",
    "    def __init__(self, name, material):\n",
    "        self.name = name\n",
    "        self.material = material\n",
    "\n",
    "        # wrong way of trying to order \n",
    "        self.order = 0\n",
    "        self.order += 1\n",
    "\n",
    "    def description(self):\n",
    "        print(self.name, \"is made in/of \" + self.material)\n"
   ]
  },
  {
   "cell_type": "code",
   "execution_count": 21,
   "metadata": {},
   "outputs": [],
   "source": [
    "apple = Basket(\"Apple\", \"Natural\")"
   ]
  },
  {
   "cell_type": "code",
   "execution_count": 22,
   "metadata": {},
   "outputs": [
    {
     "data": {
      "text/plain": [
       "1"
      ]
     },
     "execution_count": 22,
     "metadata": {},
     "output_type": "execute_result"
    }
   ],
   "source": [
    "apple.order"
   ]
  },
  {
   "cell_type": "code",
   "execution_count": 23,
   "metadata": {},
   "outputs": [],
   "source": [
    "ball = Basket(\"Tenis Ball\", \"rubber\")"
   ]
  },
  {
   "cell_type": "code",
   "execution_count": 24,
   "metadata": {},
   "outputs": [
    {
     "name": "stdout",
     "output_type": "stream",
     "text": [
      "Tenis Ball is made in/of rubber\n"
     ]
    }
   ],
   "source": [
    "ball.description()"
   ]
  },
  {
   "cell_type": "code",
   "execution_count": 25,
   "metadata": {},
   "outputs": [
    {
     "data": {
      "text/plain": [
       "1"
      ]
     },
     "execution_count": 25,
     "metadata": {},
     "output_type": "execute_result"
    }
   ],
   "source": [
    "ball.order"
   ]
  },
  {
   "cell_type": "markdown",
   "metadata": {},
   "source": [
    "❗❗❗ previously executed codes show that each and every object has order 1 because at each instace of an object the same order one is assigned and that's causeing undesireable result.  \n",
    "To make things write we have to use <b style=\"color:green\">Static</b> variable which remains same for a <em style=\"color:green\">Class</em>\n",
    "\n",
    "- <b style=\"color:green\">Instance Variable </b> is different for every <em style=\"color:green\">Object</em>\n",
    "- <b style=\"color:green\">Static Variable </b> is same for a class and once updated it holds the update"
   ]
  },
  {
   "cell_type": "code",
   "execution_count": 26,
   "metadata": {},
   "outputs": [],
   "source": [
    "# this is a basket and i wish to keep track of the order in which each object was put in the basket\n",
    "\n",
    "class Basket:\n",
    "    \n",
    "    # static attribute is declared outside constructor(__init__)\n",
    "    # static / class variable\n",
    "    counter = 1\n",
    "\n",
    "    def __init__(self, name, material):\n",
    "        self.name = name\n",
    "        self.material = material\n",
    "\n",
    "        # right way of doing this\n",
    "        # Use of static / class variable\n",
    "        self.order = Basket.counter\n",
    "        Basket.counter += 1\n",
    "\n",
    "        # wrong way of trying to order \n",
    "        # self.order = 0\n",
    "        # self.order += 1\n",
    "\n",
    "    def description(self):\n",
    "        print(self.name, \"is made in/of \" + self.material)"
   ]
  },
  {
   "cell_type": "code",
   "execution_count": 27,
   "metadata": {},
   "outputs": [
    {
     "name": "stdout",
     "output_type": "stream",
     "text": [
      "Bat is made in/of Wood\n",
      "Wood\n",
      "1\n"
     ]
    }
   ],
   "source": [
    "bat = Basket(\"Bat\", \"Wood\")\n",
    "bat.description()\n",
    "print(bat.material)\n",
    "print(bat.order)"
   ]
  },
  {
   "cell_type": "code",
   "execution_count": 28,
   "metadata": {},
   "outputs": [
    {
     "name": "stdout",
     "output_type": "stream",
     "text": [
      "Ball is made in/of rubber\n",
      "rubber\n",
      "2\n"
     ]
    }
   ],
   "source": [
    "ball = Basket(\"Ball\", \"rubber\")\n",
    "ball.description()\n",
    "print(ball.material)\n",
    "print(ball.order)"
   ]
  },
  {
   "cell_type": "code",
   "execution_count": 29,
   "metadata": {},
   "outputs": [
    {
     "name": "stdout",
     "output_type": "stream",
     "text": [
      "apple is made in/of Nature\n",
      "Nature\n",
      "3\n"
     ]
    }
   ],
   "source": [
    "apple = Basket(\"apple\", \"Nature\")\n",
    "apple.description()\n",
    "print(apple.material)\n",
    "print(apple.order)"
   ]
  },
  {
   "cell_type": "code",
   "execution_count": 31,
   "metadata": {},
   "outputs": [
    {
     "data": {
      "text/plain": [
       "4"
      ]
     },
     "execution_count": 31,
     "metadata": {},
     "output_type": "execute_result"
    }
   ],
   "source": [
    "Basket.counter"
   ]
  },
  {
   "cell_type": "code",
   "execution_count": 33,
   "metadata": {},
   "outputs": [
    {
     "data": {
      "text/plain": [
       "4"
      ]
     },
     "execution_count": 33,
     "metadata": {},
     "output_type": "execute_result"
    }
   ],
   "source": [
    "ball.counter"
   ]
  },
  {
   "cell_type": "code",
   "execution_count": 34,
   "metadata": {},
   "outputs": [
    {
     "data": {
      "text/plain": [
       "4"
      ]
     },
     "execution_count": 34,
     "metadata": {},
     "output_type": "execute_result"
    }
   ],
   "source": [
    "bat.counter"
   ]
  },
  {
   "cell_type": "markdown",
   "metadata": {},
   "source": [
    "💥❓ Eventhough each and every object of a class can access a <b style=\"color:#F86051\">static / class</b> variable of the class the best way of doing it is `Classname.staticAttributeName`"
   ]
  },
  {
   "cell_type": "markdown",
   "metadata": {},
   "source": [
    "💥🎶 Now change <b style=\"color:#F86051\">Static</b> variable into a private static variable. Because static variable can be changed if not made private"
   ]
  },
  {
   "cell_type": "code",
   "execution_count": 39,
   "metadata": {},
   "outputs": [],
   "source": [
    "class Basket:\n",
    "    \n",
    "    # static attribute is declared outside constructor(__init__)\n",
    "    # static / class variable\n",
    "    __counter = 1\n",
    "\n",
    "    def __init__(self, name, material):\n",
    "        self.name = name\n",
    "        self.material = material\n",
    "\n",
    "        # right way of doing this\n",
    "        # Use of static / class variable\n",
    "        self.order = Basket.__counter\n",
    "        Basket.__counter += 1\n",
    "\n",
    "        # wrong way of trying to order \n",
    "        # self.order = 0\n",
    "        # self.order += 1\n",
    "        \n",
    "    # change or access static variable with the help of *** set / get ***\n",
    "\n",
    "    # static method sign `@staticmethod` tells us that we don't need object to access these methood\n",
    "    @staticmethod\n",
    "    def get_counter():\n",
    "        return Basket.__counter\n",
    "    @staticmethod\n",
    "    def set_counter(new):\n",
    "        if type(new) == int:\n",
    "            Basket.__counter = new\n",
    "        else:\n",
    "            print(\"Not Allowed!\")\n",
    "    \n",
    "    def description(self):\n",
    "        print(self.name, \"is made in/of \" + self.material)"
   ]
  },
  {
   "cell_type": "markdown",
   "metadata": {},
   "source": [
    "😆 Access <b style=\"color:#F86051\">Static</b> variable without creating any object"
   ]
  },
  {
   "cell_type": "code",
   "execution_count": 40,
   "metadata": {},
   "outputs": [
    {
     "data": {
      "text/plain": [
       "1"
      ]
     },
     "execution_count": 40,
     "metadata": {},
     "output_type": "execute_result"
    }
   ],
   "source": [
    "Basket.get_counter()"
   ]
  },
  {
   "cell_type": "code",
   "execution_count": 41,
   "metadata": {},
   "outputs": [
    {
     "data": {
      "text/plain": [
       "10"
      ]
     },
     "execution_count": 41,
     "metadata": {},
     "output_type": "execute_result"
    }
   ],
   "source": [
    "Basket.set_counter(10)\n",
    "Basket.get_counter()"
   ]
  },
  {
   "cell_type": "code",
   "execution_count": 44,
   "metadata": {},
   "outputs": [
    {
     "name": "stdout",
     "output_type": "stream",
     "text": [
      "Alu is made in/of Natural\n",
      "Alu\n",
      "12\n"
     ]
    }
   ],
   "source": [
    "# now let's see what happens if we make an obj\n",
    "alu = Basket(\"Alu\", \"Natural\")\n",
    "alu.description()\n",
    "print(alu.name)\n",
    "print(alu.order)"
   ]
  },
  {
   "cell_type": "code",
   "execution_count": 45,
   "metadata": {},
   "outputs": [
    {
     "name": "stdout",
     "output_type": "stream",
     "text": [
      "Computer is made in/of Silicon fabs\n",
      "Computer\n",
      "13\n"
     ]
    }
   ],
   "source": [
    "computer = Basket(\"Computer\", \"Silicon fabs\")\n",
    "computer.description()\n",
    "print(computer.name)\n",
    "print(computer.order)"
   ]
  },
  {
   "cell_type": "markdown",
   "metadata": {},
   "source": [
    "---"
   ]
  },
  {
   "cell_type": "markdown",
   "metadata": {},
   "source": [
    "## Relation among Classes 🔥\n",
    "### 🚨🚨🚨 <b style=\"color:red\">Aggregation</b> is a type of relationship that can also be described as <b style=\"color:green\">\"has a\"</b> relationship.\n",
    "⚡⚡⚡ How to spot this type of relation:\n",
    "- One class takes in object of another class as an argument\n",
    "- Can change the object taken as an argument \n",
    "- Making other class work for the class that takes obj as argument in other words aggregating the functionality of a classes. "
   ]
  },
  {
   "cell_type": "code",
   "execution_count": 2,
   "metadata": {},
   "outputs": [],
   "source": [
    "class Customer:\n",
    "    def __init__(self, name, gender, address):\n",
    "        self.name = name\n",
    "        self.gender = gender\n",
    "        self.address = address\n",
    "\n",
    "    def edit_profile(self, new_name, new_city, new_pin):\n",
    "        self.name = new_name\n",
    "        self.address.change_address(new_city, new_pin)\n",
    "\n",
    "class Address:\n",
    "    def __init__(self, city, pincode):\n",
    "        self.city = city\n",
    "        self.pincode = pincode\n",
    "\n",
    "    def change_address(self, new_city, new_pin):\n",
    "        self.city = new_city\n",
    "        self.pincode = new_pin"
   ]
  },
  {
   "cell_type": "code",
   "execution_count": 3,
   "metadata": {},
   "outputs": [
    {
     "data": {
      "text/plain": [
       "<__main__.Address at 0x26fbfdbc750>"
      ]
     },
     "execution_count": 3,
     "metadata": {},
     "output_type": "execute_result"
    }
   ],
   "source": [
    "add = Address(\"Khulna\", 23424)\n",
    "add"
   ]
  },
  {
   "cell_type": "code",
   "execution_count": 4,
   "metadata": {},
   "outputs": [
    {
     "name": "stdout",
     "output_type": "stream",
     "text": [
      "Khulna\n",
      "23424\n"
     ]
    }
   ],
   "source": [
    "print(add.city)\n",
    "print(add.pincode)"
   ]
  },
  {
   "cell_type": "code",
   "execution_count": 5,
   "metadata": {},
   "outputs": [
    {
     "data": {
      "text/plain": [
       "<__main__.Customer at 0x26fbfdbd910>"
      ]
     },
     "execution_count": 5,
     "metadata": {},
     "output_type": "execute_result"
    }
   ],
   "source": [
    "cust = Customer(\"Kamla\", \"Male\", add)\n",
    "cust"
   ]
  },
  {
   "cell_type": "code",
   "execution_count": 7,
   "metadata": {},
   "outputs": [
    {
     "name": "stdout",
     "output_type": "stream",
     "text": [
      "Kamla\n",
      "<__main__.Address object at 0x0000026FBFDBC750>\n",
      "Male\n"
     ]
    }
   ],
   "source": [
    "print(cust.name)\n",
    "print(cust.address)\n",
    "print(cust.gender)"
   ]
  },
  {
   "cell_type": "code",
   "execution_count": 8,
   "metadata": {},
   "outputs": [
    {
     "data": {
      "text/plain": [
       "'Khulna'"
      ]
     },
     "execution_count": 8,
     "metadata": {},
     "output_type": "execute_result"
    }
   ],
   "source": [
    "cust.address.city"
   ]
  },
  {
   "cell_type": "code",
   "execution_count": 10,
   "metadata": {},
   "outputs": [
    {
     "data": {
      "text/plain": [
       "23424"
      ]
     },
     "execution_count": 10,
     "metadata": {},
     "output_type": "execute_result"
    }
   ],
   "source": [
    "cust.address.pincode"
   ]
  },
  {
   "cell_type": "code",
   "execution_count": 12,
   "metadata": {},
   "outputs": [],
   "source": [
    "cust.edit_profile(\"ding dong\", \"Jessore\", 65543)"
   ]
  },
  {
   "cell_type": "code",
   "execution_count": 13,
   "metadata": {},
   "outputs": [
    {
     "name": "stdout",
     "output_type": "stream",
     "text": [
      "ding dong\n",
      "Male\n"
     ]
    }
   ],
   "source": [
    "print(cust.name)\n",
    "print(cust.gender)"
   ]
  },
  {
   "cell_type": "code",
   "execution_count": 14,
   "metadata": {},
   "outputs": [
    {
     "ename": "AttributeError",
     "evalue": "'Customer' object has no attribute 'city'",
     "output_type": "error",
     "traceback": [
      "\u001b[1;31m---------------------------------------------------------------------------\u001b[0m",
      "\u001b[1;31mAttributeError\u001b[0m                            Traceback (most recent call last)",
      "Cell \u001b[1;32mIn[14], line 1\u001b[0m\n\u001b[1;32m----> 1\u001b[0m cust\u001b[39m.\u001b[39;49mcity\n",
      "\u001b[1;31mAttributeError\u001b[0m: 'Customer' object has no attribute 'city'"
     ]
    }
   ],
   "source": [
    "cust.city"
   ]
  },
  {
   "cell_type": "code",
   "execution_count": 15,
   "metadata": {},
   "outputs": [
    {
     "data": {
      "text/plain": [
       "'Jessore'"
      ]
     },
     "execution_count": 15,
     "metadata": {},
     "output_type": "execute_result"
    }
   ],
   "source": [
    "cust.address.city"
   ]
  },
  {
   "cell_type": "code",
   "execution_count": 16,
   "metadata": {},
   "outputs": [
    {
     "data": {
      "text/plain": [
       "65543"
      ]
     },
     "execution_count": 16,
     "metadata": {},
     "output_type": "execute_result"
    }
   ],
   "source": [
    "cust.address.pincode"
   ]
  },
  {
   "cell_type": "markdown",
   "metadata": {},
   "source": [
    "# 💀 Inheritance\n",
    "- inheritance allows us to inherit all methods and attributes/properties/variable from Parent Class and the class that inherits is called the child class\n",
    "- <b style=\"color:green\">all methods</b>, <b style=\"color:green\">constructor</b> & <b style=\"color:green\">properties</b> are inherited to the child class\n",
    "- private members(denoted as \"__prefix\") (methods/properties) are not inherited"
   ]
  },
  {
   "cell_type": "code",
   "execution_count": 1,
   "metadata": {},
   "outputs": [],
   "source": [
    "class User:\n",
    "    def login(self):\n",
    "        print(\"login\")\n",
    "    def register(self):\n",
    "        print(\"Register\")\n",
    "\n",
    "\n",
    "class Student(User):\n",
    "    def enroll(self):\n",
    "        print(\"Enroll\")\n",
    "    def review(self):\n",
    "        print(\"review\")"
   ]
  },
  {
   "cell_type": "code",
   "execution_count": 2,
   "metadata": {},
   "outputs": [],
   "source": [
    "stu1 = Student()"
   ]
  },
  {
   "cell_type": "code",
   "execution_count": 3,
   "metadata": {},
   "outputs": [
    {
     "name": "stdout",
     "output_type": "stream",
     "text": [
      "Register\n",
      "login\n",
      "Enroll\n",
      "review\n"
     ]
    }
   ],
   "source": [
    "# child class accessing method of parent class\n",
    "stu1.register()\n",
    "stu1.login()\n",
    "\n",
    "# child class accessing it's own methods\n",
    "stu1.enroll()\n",
    "stu1.review()"
   ]
  },
  {
   "cell_type": "markdown",
   "metadata": {},
   "source": [
    "☠️ <b>Parent</b> class doesn't have access to members of child class"
   ]
  },
  {
   "cell_type": "code",
   "execution_count": 4,
   "metadata": {},
   "outputs": [],
   "source": [
    "user1 = User()"
   ]
  },
  {
   "cell_type": "code",
   "execution_count": 5,
   "metadata": {},
   "outputs": [
    {
     "name": "stdout",
     "output_type": "stream",
     "text": [
      "Register\n",
      "login\n"
     ]
    }
   ],
   "source": [
    "user1.register()\n",
    "user1.login()"
   ]
  },
  {
   "cell_type": "markdown",
   "metadata": {},
   "source": [
    "💥💥💥💥💥💥💥💥💥💥💥"
   ]
  },
  {
   "cell_type": "code",
   "execution_count": 6,
   "metadata": {},
   "outputs": [
    {
     "ename": "AttributeError",
     "evalue": "'User' object has no attribute 'enroll'",
     "output_type": "error",
     "traceback": [
      "\u001b[1;31m---------------------------------------------------------------------------\u001b[0m",
      "\u001b[1;31mAttributeError\u001b[0m                            Traceback (most recent call last)",
      "Cell \u001b[1;32mIn[6], line 1\u001b[0m\n\u001b[1;32m----> 1\u001b[0m user1\u001b[39m.\u001b[39;49menroll()\n\u001b[0;32m      2\u001b[0m user1\u001b[39m.\u001b[39mreview()\n",
      "\u001b[1;31mAttributeError\u001b[0m: 'User' object has no attribute 'enroll'"
     ]
    }
   ],
   "source": [
    "user1.enroll()\n",
    "user1.review()"
   ]
  },
  {
   "cell_type": "code",
   "execution_count": 7,
   "metadata": {},
   "outputs": [],
   "source": [
    "class Phone:\n",
    "    def __init__(self, price, brand, camera):\n",
    "        print(\"inside phone constructor\")\n",
    "        self.price = price\n",
    "        self.brand = brand\n",
    "        self.camera = camera\n",
    "\n",
    "    def buy(self):\n",
    "        print(\"Buying a phone\")\n",
    "    \n",
    "    def return_phone(self):\n",
    "        print(\"returning a phone\")\n",
    "\n",
    "\n",
    "class FeaturePhone(Phone):\n",
    "    pass\n",
    "class SmartPhone(Phone):\n",
    "    pass"
   ]
  },
  {
   "cell_type": "code",
   "execution_count": 9,
   "metadata": {},
   "outputs": [
    {
     "ename": "TypeError",
     "evalue": "Phone.__init__() missing 3 required positional arguments: 'price', 'brand', and 'camera'",
     "output_type": "error",
     "traceback": [
      "\u001b[1;31m---------------------------------------------------------------------------\u001b[0m",
      "\u001b[1;31mTypeError\u001b[0m                                 Traceback (most recent call last)",
      "Cell \u001b[1;32mIn[9], line 1\u001b[0m\n\u001b[1;32m----> 1\u001b[0m smartPhone \u001b[39m=\u001b[39m SmartPhone()\n",
      "\u001b[1;31mTypeError\u001b[0m: Phone.__init__() missing 3 required positional arguments: 'price', 'brand', and 'camera'"
     ]
    }
   ],
   "source": [
    "smartPhone = SmartPhone()"
   ]
  },
  {
   "cell_type": "code",
   "execution_count": 10,
   "metadata": {},
   "outputs": [
    {
     "name": "stdout",
     "output_type": "stream",
     "text": [
      "inside phone constructor\n"
     ]
    }
   ],
   "source": [
    "smartPhone = SmartPhone(2000, \"DingDong\", \"200mpix\")"
   ]
  },
  {
   "cell_type": "code",
   "execution_count": 11,
   "metadata": {},
   "outputs": [
    {
     "name": "stdout",
     "output_type": "stream",
     "text": [
      "DingDong\n",
      "2000\n",
      "200mpix\n"
     ]
    }
   ],
   "source": [
    "# access all the properties form parent class\n",
    "print(smartPhone.brand)\n",
    "print(smartPhone.price)\n",
    "print(smartPhone.camera)"
   ]
  },
  {
   "cell_type": "code",
   "execution_count": 12,
   "metadata": {},
   "outputs": [
    {
     "name": "stdout",
     "output_type": "stream",
     "text": [
      "Buying a phone\n",
      "returning a phone\n"
     ]
    }
   ],
   "source": [
    "# access all the methods form parent class\n",
    "smartPhone.buy()\n",
    "smartPhone.return_phone()"
   ]
  },
  {
   "cell_type": "markdown",
   "metadata": {},
   "source": [
    "💫 lets check if child class can access private members of parent class"
   ]
  },
  {
   "cell_type": "code",
   "execution_count": 13,
   "metadata": {},
   "outputs": [],
   "source": [
    "class Phone:\n",
    "    def __init__(self, price, brand, camera):\n",
    "        print(\"hello from the phone class!\")\n",
    "        self.price = price\n",
    "        self.__brand = brand\n",
    "        self.camera = camera\n",
    "\n",
    "class SmartPhone(Phone):\n",
    "    pass"
   ]
  },
  {
   "cell_type": "code",
   "execution_count": 14,
   "metadata": {},
   "outputs": [
    {
     "name": "stdout",
     "output_type": "stream",
     "text": [
      "hello from the phone class!\n"
     ]
    }
   ],
   "source": [
    "smartPhone = SmartPhone(2000, \"Apple\", \"250 mpix\")"
   ]
  },
  {
   "cell_type": "code",
   "execution_count": 15,
   "metadata": {},
   "outputs": [
    {
     "data": {
      "text/plain": [
       "'250 mpix'"
      ]
     },
     "execution_count": 15,
     "metadata": {},
     "output_type": "execute_result"
    }
   ],
   "source": [
    "smartPhone.camera"
   ]
  },
  {
   "cell_type": "code",
   "execution_count": 16,
   "metadata": {},
   "outputs": [
    {
     "data": {
      "text/plain": [
       "2000"
      ]
     },
     "execution_count": 16,
     "metadata": {},
     "output_type": "execute_result"
    }
   ],
   "source": [
    "smartPhone.price"
   ]
  },
  {
   "cell_type": "code",
   "execution_count": 18,
   "metadata": {},
   "outputs": [
    {
     "ename": "AttributeError",
     "evalue": "'SmartPhone' object has no attribute '__brand'",
     "output_type": "error",
     "traceback": [
      "\u001b[1;31m---------------------------------------------------------------------------\u001b[0m",
      "\u001b[1;31mAttributeError\u001b[0m                            Traceback (most recent call last)",
      "Cell \u001b[1;32mIn[18], line 2\u001b[0m\n\u001b[0;32m      1\u001b[0m \u001b[39m# can't access because brand is private\u001b[39;00m\n\u001b[1;32m----> 2\u001b[0m smartPhone\u001b[39m.\u001b[39;49m__brand\n",
      "\u001b[1;31mAttributeError\u001b[0m: 'SmartPhone' object has no attribute '__brand'"
     ]
    }
   ],
   "source": [
    "# can't access because brand is private\n",
    "smartPhone.__brand"
   ]
  },
  {
   "cell_type": "code",
   "execution_count": 19,
   "metadata": {},
   "outputs": [
    {
     "data": {
      "text/plain": [
       "'Apple'"
      ]
     },
     "execution_count": 19,
     "metadata": {},
     "output_type": "execute_result"
    }
   ],
   "source": [
    "# but nothing in python is truely private, right?\n",
    "smartPhone._Phone__brand"
   ]
  },
  {
   "cell_type": "code",
   "execution_count": 20,
   "metadata": {},
   "outputs": [],
   "source": [
    "smartPhone._Phone__brand = \"Nokia\""
   ]
  },
  {
   "cell_type": "code",
   "execution_count": 21,
   "metadata": {},
   "outputs": [
    {
     "data": {
      "text/plain": [
       "'Nokia'"
      ]
     },
     "execution_count": 21,
     "metadata": {},
     "output_type": "execute_result"
    }
   ],
   "source": [
    "smartPhone._Phone__brand"
   ]
  },
  {
   "cell_type": "markdown",
   "metadata": {},
   "source": [
    "🗨️🗨️🗨️ method overriding!"
   ]
  },
  {
   "cell_type": "code",
   "execution_count": 22,
   "metadata": {},
   "outputs": [],
   "source": [
    "class Phone:\n",
    "    def __init__(self, price, brand, camera):\n",
    "        print(\"Hello from phone constructor\")\n",
    "        self.__price = price\n",
    "        self.brand = brand\n",
    "        self.camera = camera\n",
    "\n",
    "    def buy(self):\n",
    "        print(\"Buying a phone\")\n",
    "\n",
    "\n",
    "class SmartPhone(Phone):\n",
    "    \n",
    "    def buy(self):\n",
    "        print(\"buying a Smart Phone\")"
   ]
  },
  {
   "cell_type": "code",
   "execution_count": 23,
   "metadata": {},
   "outputs": [
    {
     "name": "stdout",
     "output_type": "stream",
     "text": [
      "Hello from phone constructor\n"
     ]
    }
   ],
   "source": [
    "s = SmartPhone(2000, \"Apple\", \"1000 mpx\")"
   ]
  },
  {
   "cell_type": "code",
   "execution_count": 24,
   "metadata": {},
   "outputs": [
    {
     "ename": "AttributeError",
     "evalue": "'SmartPhone' object has no attribute '__price'",
     "output_type": "error",
     "traceback": [
      "\u001b[1;31m---------------------------------------------------------------------------\u001b[0m",
      "\u001b[1;31mAttributeError\u001b[0m                            Traceback (most recent call last)",
      "Cell \u001b[1;32mIn[24], line 1\u001b[0m\n\u001b[1;32m----> 1\u001b[0m \u001b[39mprint\u001b[39m(s\u001b[39m.\u001b[39;49m__price)\n",
      "\u001b[1;31mAttributeError\u001b[0m: 'SmartPhone' object has no attribute '__price'"
     ]
    }
   ],
   "source": [
    "print(s.__price)"
   ]
  },
  {
   "cell_type": "code",
   "execution_count": 25,
   "metadata": {},
   "outputs": [
    {
     "name": "stdout",
     "output_type": "stream",
     "text": [
      "2000\n"
     ]
    }
   ],
   "source": [
    "print(s._Phone__price)"
   ]
  },
  {
   "cell_type": "code",
   "execution_count": 26,
   "metadata": {},
   "outputs": [
    {
     "ename": "AttributeError",
     "evalue": "'SmartPhone' object has no attribute '_SmartPhone__price'",
     "output_type": "error",
     "traceback": [
      "\u001b[1;31m---------------------------------------------------------------------------\u001b[0m",
      "\u001b[1;31mAttributeError\u001b[0m                            Traceback (most recent call last)",
      "Cell \u001b[1;32mIn[26], line 1\u001b[0m\n\u001b[1;32m----> 1\u001b[0m s\u001b[39m.\u001b[39;49m_SmartPhone__price\n",
      "\u001b[1;31mAttributeError\u001b[0m: 'SmartPhone' object has no attribute '_SmartPhone__price'"
     ]
    }
   ],
   "source": [
    "s._SmartPhone__price"
   ]
  },
  {
   "cell_type": "code",
   "execution_count": 28,
   "metadata": {},
   "outputs": [
    {
     "data": {
      "text/plain": [
       "'Apple'"
      ]
     },
     "execution_count": 28,
     "metadata": {},
     "output_type": "execute_result"
    }
   ],
   "source": [
    "s.brand"
   ]
  },
  {
   "cell_type": "code",
   "execution_count": 29,
   "metadata": {},
   "outputs": [
    {
     "data": {
      "text/plain": [
       "'1000 mpx'"
      ]
     },
     "execution_count": 29,
     "metadata": {},
     "output_type": "execute_result"
    }
   ],
   "source": [
    "s.camera"
   ]
  },
  {
   "cell_type": "markdown",
   "metadata": {},
   "source": [
    "💥💥💥💥💥💥💥💥💥💥💥 method overriding"
   ]
  },
  {
   "cell_type": "code",
   "execution_count": 31,
   "metadata": {},
   "outputs": [
    {
     "name": "stdout",
     "output_type": "stream",
     "text": [
      "buying a Smart Phone\n"
     ]
    }
   ],
   "source": [
    "# both class contains buy() method but when called method of it's own class is accessed.\n",
    "# this is known as method overriding\n",
    "s.buy()"
   ]
  },
  {
   "cell_type": "markdown",
   "metadata": {},
   "source": [
    "# 🤑🤑🤑🤑 <b style=\"color:green\">Polymorphism</b> (the condition of occurring in several different forms.)\n",
    "- Types of polymorphism\n",
    "    - Method Overriding (muliple method of same name exists in parent and class. access method from own class)\n",
    "    - Method Overloading \n",
    "    - Operator Overloading"
   ]
  },
  {
   "cell_type": "code",
   "execution_count": 32,
   "metadata": {},
   "outputs": [],
   "source": [
    "class Parent:\n",
    "    \n",
    "    def __init__(self, num):\n",
    "        self.__num = num\n",
    "\n",
    "    def get_num(self):\n",
    "        return self.__num\n",
    "    \n",
    "class Child(Parent):\n",
    "    \n",
    "    def show(self):\n",
    "        print(\"This is in child class\")"
   ]
  },
  {
   "cell_type": "code",
   "execution_count": 33,
   "metadata": {},
   "outputs": [
    {
     "data": {
      "text/plain": [
       "<__main__.Child at 0x203985d2b90>"
      ]
     },
     "execution_count": 33,
     "metadata": {},
     "output_type": "execute_result"
    }
   ],
   "source": [
    "son = Child(100)\n",
    "son"
   ]
  },
  {
   "cell_type": "code",
   "execution_count": 34,
   "metadata": {},
   "outputs": [
    {
     "name": "stdout",
     "output_type": "stream",
     "text": [
      "100\n"
     ]
    }
   ],
   "source": [
    "print(son.get_num())"
   ]
  },
  {
   "cell_type": "code",
   "execution_count": 35,
   "metadata": {},
   "outputs": [
    {
     "name": "stdout",
     "output_type": "stream",
     "text": [
      "This is in child class\n"
     ]
    }
   ],
   "source": [
    "son.show()"
   ]
  },
  {
   "cell_type": "markdown",
   "metadata": {},
   "source": [
    "---"
   ]
  },
  {
   "cell_type": "code",
   "execution_count": 36,
   "metadata": {},
   "outputs": [],
   "source": [
    "class Parent:\n",
    "    \n",
    "    def __init__(self, num):\n",
    "        self.__num = num\n",
    "\n",
    "    def get_num(self):\n",
    "        return self.__num\n",
    "    \n",
    "class Child(Parent):\n",
    "    \n",
    "    def __init__(self, val, num):\n",
    "        self.__val = val\n",
    "\n",
    "    def get_val(self):\n",
    "        return self.__val"
   ]
  },
  {
   "cell_type": "code",
   "execution_count": 37,
   "metadata": {},
   "outputs": [],
   "source": [
    "son = Child(100, 10)"
   ]
  },
  {
   "cell_type": "code",
   "execution_count": 38,
   "metadata": {},
   "outputs": [
    {
     "ename": "AttributeError",
     "evalue": "'Child' object has no attribute '_Parent__num'",
     "output_type": "error",
     "traceback": [
      "\u001b[1;31m---------------------------------------------------------------------------\u001b[0m",
      "\u001b[1;31mAttributeError\u001b[0m                            Traceback (most recent call last)",
      "Cell \u001b[1;32mIn[38], line 1\u001b[0m\n\u001b[1;32m----> 1\u001b[0m son\u001b[39m.\u001b[39;49mget_num()\n",
      "Cell \u001b[1;32mIn[36], line 7\u001b[0m, in \u001b[0;36mParent.get_num\u001b[1;34m(self)\u001b[0m\n\u001b[0;32m      6\u001b[0m \u001b[39mdef\u001b[39;00m \u001b[39mget_num\u001b[39m(\u001b[39mself\u001b[39m):\n\u001b[1;32m----> 7\u001b[0m     \u001b[39mreturn\u001b[39;00m \u001b[39mself\u001b[39;49m\u001b[39m.\u001b[39;49m__num\n",
      "\u001b[1;31mAttributeError\u001b[0m: 'Child' object has no attribute '_Parent__num'"
     ]
    }
   ],
   "source": [
    "son.get_num()"
   ]
  },
  {
   "cell_type": "code",
   "execution_count": 39,
   "metadata": {},
   "outputs": [
    {
     "data": {
      "text/plain": [
       "100"
      ]
     },
     "execution_count": 39,
     "metadata": {},
     "output_type": "execute_result"
    }
   ],
   "source": [
    "son.get_val()"
   ]
  },
  {
   "cell_type": "markdown",
   "metadata": {},
   "source": [
    "---"
   ]
  },
  {
   "cell_type": "code",
   "execution_count": 1,
   "metadata": {},
   "outputs": [],
   "source": [
    "class A:\n",
    "    def __init__(self):\n",
    "        self.var1 = 100\n",
    "\n",
    "    def display1(self, var1):\n",
    "        print(\"class A: \", self.var1)\n",
    "\n",
    "class B(A):\n",
    "    def display2(self, var1):\n",
    "        print(\"class B: \", self.var1)"
   ]
  },
  {
   "cell_type": "code",
   "execution_count": 2,
   "metadata": {},
   "outputs": [],
   "source": [
    "obj = B()"
   ]
  },
  {
   "cell_type": "code",
   "execution_count": 3,
   "metadata": {},
   "outputs": [
    {
     "name": "stdout",
     "output_type": "stream",
     "text": [
      "class A:  100\n"
     ]
    }
   ],
   "source": [
    "obj.display1(200)"
   ]
  },
  {
   "cell_type": "code",
   "execution_count": 4,
   "metadata": {},
   "outputs": [],
   "source": [
    "objA = A()"
   ]
  },
  {
   "cell_type": "code",
   "execution_count": 5,
   "metadata": {},
   "outputs": [
    {
     "name": "stdout",
     "output_type": "stream",
     "text": [
      "class A:  100\n"
     ]
    }
   ],
   "source": [
    "objA.display1(500)"
   ]
  },
  {
   "cell_type": "code",
   "execution_count": 6,
   "metadata": {},
   "outputs": [
    {
     "name": "stdout",
     "output_type": "stream",
     "text": [
      "class B:  100\n"
     ]
    }
   ],
   "source": [
    "obj.display2(1000)"
   ]
  },
  {
   "cell_type": "markdown",
   "metadata": {},
   "source": [
    "---"
   ]
  },
  {
   "cell_type": "markdown",
   "metadata": {},
   "source": [
    "🤯🤯🤯 `super()` keyword"
   ]
  },
  {
   "cell_type": "code",
   "execution_count": 15,
   "metadata": {},
   "outputs": [],
   "source": [
    "class Phone:\n",
    "    def __init__(self, price, brand, camera):\n",
    "        print(\"Hello from inside of Phone!\")\n",
    "        self.__price = price\n",
    "        self.brand = brand\n",
    "        self.camera = camera\n",
    "\n",
    "    def buy(self):\n",
    "        print(\"Buying a phone\")\n",
    "\n",
    "class SmartPhone(Phone):\n",
    "    \n",
    "    def buy(self):\n",
    "        print(\"Buying a smartphone\")\n",
    "        # super() is used to call method or constructor of parent class\n",
    "        # can not access attribute\n",
    "        super().buy()"
   ]
  },
  {
   "cell_type": "code",
   "execution_count": 16,
   "metadata": {},
   "outputs": [
    {
     "name": "stdout",
     "output_type": "stream",
     "text": [
      "Hello from inside of Phone!\n"
     ]
    }
   ],
   "source": [
    "s = SmartPhone(2000, \"Apple\", 13)"
   ]
  },
  {
   "cell_type": "code",
   "execution_count": 17,
   "metadata": {},
   "outputs": [
    {
     "name": "stdout",
     "output_type": "stream",
     "text": [
      "Buying a smartphone\n",
      "Buying a phone\n"
     ]
    }
   ],
   "source": [
    "s.buy()"
   ]
  },
  {
   "cell_type": "markdown",
   "metadata": {},
   "source": [
    "---"
   ]
  },
  {
   "cell_type": "code",
   "execution_count": 22,
   "metadata": {},
   "outputs": [],
   "source": [
    "class Phone:\n",
    "    def __init__(self, price, brand, camera):\n",
    "        print(\"Inside phone constructor\")\n",
    "        self.__price = price\n",
    "        self.brand = brand\n",
    "        self.camera = camera\n",
    "    \n",
    "    def buy(self):\n",
    "        print(\"Buying a phone\")\n",
    "\n",
    "    def return_phone(self):\n",
    "        print(\"Returning a phone\")\n",
    "\n",
    "class FeaturePhone(Phone):\n",
    "    pass\n",
    "\n",
    "\n",
    "class SmartPhone(Phone):\n",
    "    def __init__(self, price, brand, camera, os, ram):\n",
    "        print(\"inside Smart Phone constructor\")\n",
    "        super().__init__(price, brand, camera)\n",
    "        self.os = os\n",
    "        self.ram = ram\n",
    "        print(\"Inside smartphone constructor\")\n",
    "\n",
    "    def buy(self):\n",
    "        print(\"buying a smart phone\")\n"
   ]
  },
  {
   "cell_type": "code",
   "execution_count": 23,
   "metadata": {},
   "outputs": [
    {
     "name": "stdout",
     "output_type": "stream",
     "text": [
      "inside Smart Phone constructor\n",
      "Inside phone constructor\n",
      "Inside smartphone constructor\n"
     ]
    }
   ],
   "source": [
    "s = SmartPhone(2000, \"Nokia\", 10, \"Windows\", 2)"
   ]
  },
  {
   "cell_type": "code",
   "execution_count": 24,
   "metadata": {},
   "outputs": [
    {
     "data": {
      "text/plain": [
       "'Nokia'"
      ]
     },
     "execution_count": 24,
     "metadata": {},
     "output_type": "execute_result"
    }
   ],
   "source": [
    "s.brand"
   ]
  },
  {
   "cell_type": "code",
   "execution_count": 25,
   "metadata": {},
   "outputs": [
    {
     "ename": "AttributeError",
     "evalue": "'SmartPhone' object has no attribute '__price'",
     "output_type": "error",
     "traceback": [
      "\u001b[1;31m---------------------------------------------------------------------------\u001b[0m",
      "\u001b[1;31mAttributeError\u001b[0m                            Traceback (most recent call last)",
      "Cell \u001b[1;32mIn[25], line 1\u001b[0m\n\u001b[1;32m----> 1\u001b[0m s\u001b[39m.\u001b[39;49m__price\n",
      "\u001b[1;31mAttributeError\u001b[0m: 'SmartPhone' object has no attribute '__price'"
     ]
    }
   ],
   "source": [
    "s.__price"
   ]
  },
  {
   "cell_type": "code",
   "execution_count": 26,
   "metadata": {},
   "outputs": [
    {
     "data": {
      "text/plain": [
       "2000"
      ]
     },
     "execution_count": 26,
     "metadata": {},
     "output_type": "execute_result"
    }
   ],
   "source": [
    "s._Phone__price"
   ]
  },
  {
   "cell_type": "code",
   "execution_count": 27,
   "metadata": {},
   "outputs": [
    {
     "ename": "AttributeError",
     "evalue": "'SmartPhone' object has no attribute '_SmartPhone__price'",
     "output_type": "error",
     "traceback": [
      "\u001b[1;31m---------------------------------------------------------------------------\u001b[0m",
      "\u001b[1;31mAttributeError\u001b[0m                            Traceback (most recent call last)",
      "Cell \u001b[1;32mIn[27], line 1\u001b[0m\n\u001b[1;32m----> 1\u001b[0m s\u001b[39m.\u001b[39;49m_SmartPhone__price\n",
      "\u001b[1;31mAttributeError\u001b[0m: 'SmartPhone' object has no attribute '_SmartPhone__price'"
     ]
    }
   ],
   "source": [
    "s._SmartPhone__price"
   ]
  },
  {
   "cell_type": "code",
   "execution_count": 28,
   "metadata": {},
   "outputs": [
    {
     "data": {
      "text/plain": [
       "10"
      ]
     },
     "execution_count": 28,
     "metadata": {},
     "output_type": "execute_result"
    }
   ],
   "source": [
    "# price, brand, camera, os, ram\n",
    "s.camera"
   ]
  },
  {
   "cell_type": "code",
   "execution_count": 29,
   "metadata": {},
   "outputs": [
    {
     "data": {
      "text/plain": [
       "'Windows'"
      ]
     },
     "execution_count": 29,
     "metadata": {},
     "output_type": "execute_result"
    }
   ],
   "source": [
    "s.os"
   ]
  },
  {
   "cell_type": "code",
   "execution_count": 30,
   "metadata": {},
   "outputs": [
    {
     "data": {
      "text/plain": [
       "2"
      ]
     },
     "execution_count": 30,
     "metadata": {},
     "output_type": "execute_result"
    }
   ],
   "source": [
    "s.ram"
   ]
  },
  {
   "cell_type": "markdown",
   "metadata": {},
   "source": [
    "---"
   ]
  },
  {
   "cell_type": "code",
   "execution_count": 31,
   "metadata": {},
   "outputs": [],
   "source": [
    "class Parent:\n",
    "    def __init__(self, num):\n",
    "        self.__num = num\n",
    "    \n",
    "    def get_num(self):\n",
    "        return self.__num\n",
    "    \n",
    "class Child(Parent):\n",
    "    def __init__(self, num, val):\n",
    "        super().__init__(num)\n",
    "        self.__val = val\n",
    "\n",
    "    def get_val(self):\n",
    "        return self.__val"
   ]
  },
  {
   "cell_type": "code",
   "execution_count": 32,
   "metadata": {},
   "outputs": [],
   "source": [
    "son = Child(100, 200)"
   ]
  },
  {
   "cell_type": "code",
   "execution_count": 33,
   "metadata": {},
   "outputs": [
    {
     "name": "stdout",
     "output_type": "stream",
     "text": [
      "100\n"
     ]
    }
   ],
   "source": [
    "print(son.get_num())"
   ]
  },
  {
   "cell_type": "code",
   "execution_count": 34,
   "metadata": {},
   "outputs": [
    {
     "data": {
      "text/plain": [
       "200"
      ]
     },
     "execution_count": 34,
     "metadata": {},
     "output_type": "execute_result"
    }
   ],
   "source": [
    "son.get_val()"
   ]
  },
  {
   "cell_type": "markdown",
   "metadata": {},
   "source": [
    "---"
   ]
  },
  {
   "cell_type": "code",
   "execution_count": 35,
   "metadata": {},
   "outputs": [],
   "source": [
    "class Parent:\n",
    "    def __init__(self):\n",
    "        self.num = 100\n",
    "\n",
    "class Child(Parent):\n",
    "    def __init__(self):\n",
    "        super().__init__()\n",
    "        self.var = 200\n",
    "    def show(self):\n",
    "        print(self.num)\n",
    "        print(self.var)"
   ]
  },
  {
   "cell_type": "code",
   "execution_count": 36,
   "metadata": {},
   "outputs": [],
   "source": [
    "son = Child()"
   ]
  },
  {
   "cell_type": "code",
   "execution_count": 37,
   "metadata": {},
   "outputs": [
    {
     "data": {
      "text/plain": [
       "200"
      ]
     },
     "execution_count": 37,
     "metadata": {},
     "output_type": "execute_result"
    }
   ],
   "source": [
    "son.var"
   ]
  },
  {
   "cell_type": "code",
   "execution_count": 38,
   "metadata": {},
   "outputs": [
    {
     "data": {
      "text/plain": [
       "100"
      ]
     },
     "execution_count": 38,
     "metadata": {},
     "output_type": "execute_result"
    }
   ],
   "source": [
    "son.num"
   ]
  },
  {
   "cell_type": "code",
   "execution_count": 39,
   "metadata": {},
   "outputs": [
    {
     "name": "stdout",
     "output_type": "stream",
     "text": [
      "100\n",
      "200\n"
     ]
    }
   ],
   "source": [
    "son.show()"
   ]
  },
  {
   "cell_type": "code",
   "execution_count": null,
   "metadata": {},
   "outputs": [],
   "source": []
  }
 ],
 "metadata": {
  "kernelspec": {
   "display_name": "Python 3",
   "language": "python",
   "name": "python3"
  },
  "language_info": {
   "codemirror_mode": {
    "name": "ipython",
    "version": 3
   },
   "file_extension": ".py",
   "mimetype": "text/x-python",
   "name": "python",
   "nbconvert_exporter": "python",
   "pygments_lexer": "ipython3",
   "version": "3.11.3"
  },
  "orig_nbformat": 4
 },
 "nbformat": 4,
 "nbformat_minor": 2
}
